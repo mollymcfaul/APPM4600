{
 "cells": [
  {
   "cell_type": "markdown",
   "id": "014d8385-a22c-4d05-bae0-8ce3cf77e673",
   "metadata": {},
   "source": [
    "### Bisection"
   ]
  },
  {
   "cell_type": "code",
   "execution_count": 37,
   "id": "279faf72-ea80-4ca7-acc7-46554c87077c",
   "metadata": {
    "tags": []
   },
   "outputs": [],
   "source": [
    "# import libraries\n",
    "import numpy as np\n",
    "import math\n",
    "\n",
    "def driverb(f,tol,a,b):\n",
    "\n",
    "# use routines    \n",
    "\n",
    "#    f = lambda x: np.sin(x)\n",
    "#    a = 0.1\n",
    "#    b = np.pi+0.1\n",
    "\n",
    "  \n",
    "\n",
    "    [astar,ier] = bisection(f,a,b,tol)\n",
    "    print('the approximate root is',astar)\n",
    "    print('the error message reads:',ier)\n",
    "    print('f(astar) =', f(astar))\n",
    "\n",
    "\n",
    "\n",
    "\n",
    "# define routines\n",
    "def bisection(f,a,b,tol):\n",
    "    \n",
    "#    Inputs:\n",
    "#     f,a,b       - function and endpoints of initial interval\n",
    "#      tol  - bisection stops when interval length < tol\n",
    "\n",
    "#    Returns:\n",
    "#      astar - approximation of root\n",
    "#      ier   - error message\n",
    "#            - ier = 1 => Failed\n",
    "#            - ier = 0 == success\n",
    "\n",
    "#     first verify there is a root we can find in the interval \n",
    "\n",
    "    fa = f(a)\n",
    "    fb = f(b);\n",
    "    if (fa*fb>0):\n",
    "       ier = 1\n",
    "       astar = a\n",
    "       return [astar, ier]\n",
    "\n",
    "#   verify end points are not a root \n",
    "    if (fa == 0):\n",
    "      astar = a\n",
    "      ier =0\n",
    "      return [astar, ier]\n",
    "\n",
    "    if (fb ==0):\n",
    "      astar = b\n",
    "      ier = 0\n",
    "      return [astar, ier]\n",
    "\n",
    "    count = 0\n",
    "    d = 0.5*(a+b)\n",
    "    while (abs(d-a)> tol):\n",
    "      fd = f(d)\n",
    "      if (fd ==0):\n",
    "        astar = d\n",
    "        ier = 0\n",
    "        return [astar, ier]\n",
    "      if (fa*fd<0):\n",
    "         b = d\n",
    "      else: \n",
    "        a = d\n",
    "        fa = fd\n",
    "      d = 0.5*(a+b)\n",
    "      count = count +1\n",
    "#      print('abs(d-a) = ', abs(d-a))\n",
    "      \n",
    "    astar = d\n",
    "    ier = 0\n",
    "    return [astar, ier]\n",
    "      \n",
    "               \n",
    "\n"
   ]
  },
  {
   "cell_type": "code",
   "execution_count": 38,
   "id": "d972a822-ace3-46b8-9802-6f9b8a98c255",
   "metadata": {
    "tags": []
   },
   "outputs": [
    {
     "name": "stdout",
     "output_type": "stream",
     "text": [
      "the approximate root is 0.9999999701976776\n",
      "the error message reads: 0\n",
      "f(astar) = -2.98023206113385e-08\n"
     ]
    }
   ],
   "source": [
    "#1a\n",
    "driverb(lambda x: x**2*(x-1),1e-7,0.5,2)"
   ]
  },
  {
   "cell_type": "code",
   "execution_count": 39,
   "id": "4cdd0b33-67ac-49fb-b61a-5cd89b25e34e",
   "metadata": {
    "tags": []
   },
   "outputs": [
    {
     "name": "stdout",
     "output_type": "stream",
     "text": [
      "the approximate root is -1\n",
      "the error message reads: 1\n",
      "f(astar) = -2\n"
     ]
    }
   ],
   "source": [
    "#1b\n",
    "driverb(lambda x: x**2*(x-1),1e-7,-1,0.5)"
   ]
  },
  {
   "cell_type": "code",
   "execution_count": 40,
   "id": "6288ee65-5d74-4bdb-9189-ca781c296a69",
   "metadata": {
    "tags": []
   },
   "outputs": [
    {
     "name": "stdout",
     "output_type": "stream",
     "text": [
      "the approximate root is 0.9999999701976776\n",
      "the error message reads: 0\n",
      "f(astar) = -2.98023206113385e-08\n"
     ]
    }
   ],
   "source": [
    "#1c\n",
    "driverb(lambda x: x**2*(x-1),1e-7,-1,2)"
   ]
  },
  {
   "cell_type": "code",
   "execution_count": 41,
   "id": "283c93b2-223d-452f-84e4-a40d2c2c6eb5",
   "metadata": {
    "tags": []
   },
   "outputs": [
    {
     "name": "stdout",
     "output_type": "stream",
     "text": [
      "the approximate root is 1.0000030517578122\n",
      "the error message reads: 0\n",
      "f(astar) = 2.4414006618542327e-05\n"
     ]
    }
   ],
   "source": [
    "#2a\n",
    "driverb(lambda x: (x-1)*(x-3)*(x-5), 1e-5, 0, 2.4)"
   ]
  },
  {
   "cell_type": "code",
   "execution_count": 42,
   "id": "cd25b61c-6d26-434d-9c8b-e4a3c02139e4",
   "metadata": {
    "tags": []
   },
   "outputs": [
    {
     "name": "stdout",
     "output_type": "stream",
     "text": [
      "the approximate root is 0\n",
      "the error message reads: 1\n",
      "f(astar) = -3\n"
     ]
    }
   ],
   "source": [
    "#2b\n",
    "driverb(lambda x: (x-1)**2*(x-3), 1e-5, 0, 2)"
   ]
  },
  {
   "cell_type": "code",
   "execution_count": 43,
   "id": "e25a9ecb-dfe1-4e1f-b34c-4cc98edf6234",
   "metadata": {
    "tags": []
   },
   "outputs": [
    {
     "name": "stdout",
     "output_type": "stream",
     "text": [
      "the approximate root is 0\n",
      "the error message reads: 0\n",
      "f(astar) = 0.0\n"
     ]
    }
   ],
   "source": [
    "#2c\n",
    "driverb(lambda x: math.sin(x), 1e-5, 0, 0.1)"
   ]
  },
  {
   "cell_type": "code",
   "execution_count": 44,
   "id": "6ec7e0d9-40bc-48b8-b5cd-63fe4024a871",
   "metadata": {
    "tags": []
   },
   "outputs": [
    {
     "name": "stdout",
     "output_type": "stream",
     "text": [
      "the approximate root is 0.5\n",
      "the error message reads: 1\n",
      "f(astar) = 0.479425538604203\n"
     ]
    }
   ],
   "source": [
    "#2c\n",
    "driverb(lambda x: math.sin(x), 1e-5, 0.5, (3*math.pi)/4)"
   ]
  },
  {
   "cell_type": "code",
   "execution_count": null,
   "id": "261f3a64-fe8e-4213-8a07-353d19fbb92d",
   "metadata": {},
   "outputs": [],
   "source": []
  },
  {
   "cell_type": "code",
   "execution_count": 45,
   "id": "6147d490-300b-4d2a-8179-ccdf2b02eeac",
   "metadata": {
    "tags": []
   },
   "outputs": [],
   "source": [
    "# import libraries\n",
    "import numpy as np\n",
    "    \n",
    "def driver(f1):\n",
    "\n",
    "     f2 = lambda x: x\n",
    "\n",
    "     Nmax = 100\n",
    "     tol = 1e-10\n",
    "\n",
    "# test f1 '''\n",
    "     x0 = 1.0\n",
    "     [xstar,ier] = fixedpt(f1,x0,tol,Nmax)\n",
    "     print('the approximate fixed point is:',xstar)\n",
    "     print('f1(xstar):',f1(xstar))\n",
    "     print('Error message reads:',ier)\n",
    "    \n",
    "#test f2 '''\n",
    "     x0 = 1.0\n",
    "     [xstar,ier] = fixedpt(f2,x0,tol,Nmax)\n",
    "     print('the approximate fixed point is:',xstar)\n",
    "     print('f2(xstar):',f2(xstar))\n",
    "     print('Error message reads:',ier)\n",
    "\n",
    "\n",
    "\n",
    "# define routines\n",
    "def fixedpt(f,x0,tol,Nmax):\n",
    "\n",
    "    ''' x0 = initial guess''' \n",
    "    ''' Nmax = max number of iterations'''\n",
    "    ''' tol = stopping tolerance'''\n",
    "\n",
    "    count = 0\n",
    "    while (count <Nmax):\n",
    "       count = count +1\n",
    "       x1 = f(x0)\n",
    "       if (abs(x1-x0) <tol):\n",
    "          xstar = x1\n",
    "          ier = 0\n",
    "          return [xstar,ier]\n",
    "       x0 = x1\n",
    "\n",
    "    xstar = x1\n",
    "    ier = 1\n",
    "    return [xstar, ier]\n"
   ]
  },
  {
   "cell_type": "code",
   "execution_count": 46,
   "id": "7b48f52f-f337-4a25-904d-3aa52c6beed3",
   "metadata": {
    "tags": []
   },
   "outputs": [
    {
     "ename": "OverflowError",
     "evalue": "(34, 'Result too large')",
     "output_type": "error",
     "traceback": [
      "\u001b[1;31m---------------------------------------------------------------------------\u001b[0m",
      "\u001b[1;31mOverflowError\u001b[0m                             Traceback (most recent call last)",
      "Cell \u001b[1;32mIn[46], line 1\u001b[0m\n\u001b[1;32m----> 1\u001b[0m driver(\u001b[38;5;28;01mlambda\u001b[39;00m x: x\u001b[38;5;241m*\u001b[39m(\u001b[38;5;241m1\u001b[39m \u001b[38;5;241m+\u001b[39m (\u001b[38;5;241m7\u001b[39m \u001b[38;5;241m-\u001b[39m x\u001b[38;5;241m*\u001b[39m\u001b[38;5;241m*\u001b[39m\u001b[38;5;241m5\u001b[39m)\u001b[38;5;241m/\u001b[39mx\u001b[38;5;241m*\u001b[39m\u001b[38;5;241m*\u001b[39m\u001b[38;5;241m2\u001b[39m)\u001b[38;5;241m*\u001b[39m\u001b[38;5;241m*\u001b[39m\u001b[38;5;241m3\u001b[39m)\n",
      "Cell \u001b[1;32mIn[45], line 13\u001b[0m, in \u001b[0;36mdriver\u001b[1;34m(f1)\u001b[0m\n\u001b[0;32m     11\u001b[0m \u001b[38;5;66;03m# test f1 '''\u001b[39;00m\n\u001b[0;32m     12\u001b[0m      x0 \u001b[38;5;241m=\u001b[39m \u001b[38;5;241m1.0\u001b[39m\n\u001b[1;32m---> 13\u001b[0m      [xstar,ier] \u001b[38;5;241m=\u001b[39m fixedpt(f1,x0,tol,Nmax)\n\u001b[0;32m     14\u001b[0m      \u001b[38;5;28mprint\u001b[39m(\u001b[38;5;124m'\u001b[39m\u001b[38;5;124mthe approximate fixed point is:\u001b[39m\u001b[38;5;124m'\u001b[39m,xstar)\n\u001b[0;32m     15\u001b[0m      \u001b[38;5;28mprint\u001b[39m(\u001b[38;5;124m'\u001b[39m\u001b[38;5;124mf1(xstar):\u001b[39m\u001b[38;5;124m'\u001b[39m,f1(xstar))\n",
      "Cell \u001b[1;32mIn[45], line 37\u001b[0m, in \u001b[0;36mfixedpt\u001b[1;34m(f, x0, tol, Nmax)\u001b[0m\n\u001b[0;32m     35\u001b[0m \u001b[38;5;28;01mwhile\u001b[39;00m (count \u001b[38;5;241m<\u001b[39mNmax):\n\u001b[0;32m     36\u001b[0m    count \u001b[38;5;241m=\u001b[39m count \u001b[38;5;241m+\u001b[39m\u001b[38;5;241m1\u001b[39m\n\u001b[1;32m---> 37\u001b[0m    x1 \u001b[38;5;241m=\u001b[39m f(x0)\n\u001b[0;32m     38\u001b[0m    \u001b[38;5;28;01mif\u001b[39;00m (\u001b[38;5;28mabs\u001b[39m(x1\u001b[38;5;241m-\u001b[39mx0) \u001b[38;5;241m<\u001b[39mtol):\n\u001b[0;32m     39\u001b[0m       xstar \u001b[38;5;241m=\u001b[39m x1\n",
      "Cell \u001b[1;32mIn[46], line 1\u001b[0m, in \u001b[0;36m<lambda>\u001b[1;34m(x)\u001b[0m\n\u001b[1;32m----> 1\u001b[0m driver(\u001b[38;5;28;01mlambda\u001b[39;00m x: x\u001b[38;5;241m*\u001b[39m(\u001b[38;5;241m1\u001b[39m \u001b[38;5;241m+\u001b[39m (\u001b[38;5;241m7\u001b[39m \u001b[38;5;241m-\u001b[39m x\u001b[38;5;241m*\u001b[39m\u001b[38;5;241m*\u001b[39m\u001b[38;5;241m5\u001b[39m)\u001b[38;5;241m/\u001b[39mx\u001b[38;5;241m*\u001b[39m\u001b[38;5;241m*\u001b[39m\u001b[38;5;241m2\u001b[39m)\u001b[38;5;241m*\u001b[39m\u001b[38;5;241m*\u001b[39m\u001b[38;5;241m3\u001b[39m)\n",
      "\u001b[1;31mOverflowError\u001b[0m: (34, 'Result too large')"
     ]
    }
   ],
   "source": [
    "driver(lambda x: x*(1 + (7 - x**5)/x**2)**3)"
   ]
  },
  {
   "cell_type": "code",
   "execution_count": 47,
   "id": "93554e7f-26f6-40c2-b33d-7cb959e8fdfc",
   "metadata": {
    "tags": []
   },
   "outputs": [
    {
     "ename": "OverflowError",
     "evalue": "(34, 'Result too large')",
     "output_type": "error",
     "traceback": [
      "\u001b[1;31m---------------------------------------------------------------------------\u001b[0m",
      "\u001b[1;31mOverflowError\u001b[0m                             Traceback (most recent call last)",
      "Cell \u001b[1;32mIn[47], line 1\u001b[0m\n\u001b[1;32m----> 1\u001b[0m driver(\u001b[38;5;28;01mlambda\u001b[39;00m x: x \u001b[38;5;241m-\u001b[39m (x\u001b[38;5;241m*\u001b[39m\u001b[38;5;241m*\u001b[39m\u001b[38;5;241m5\u001b[39m\u001b[38;5;241m-\u001b[39m\u001b[38;5;241m7\u001b[39m)\u001b[38;5;241m/\u001b[39mx\u001b[38;5;241m*\u001b[39m\u001b[38;5;241m*\u001b[39m\u001b[38;5;241m2\u001b[39m)\n",
      "Cell \u001b[1;32mIn[45], line 13\u001b[0m, in \u001b[0;36mdriver\u001b[1;34m(f1)\u001b[0m\n\u001b[0;32m     11\u001b[0m \u001b[38;5;66;03m# test f1 '''\u001b[39;00m\n\u001b[0;32m     12\u001b[0m      x0 \u001b[38;5;241m=\u001b[39m \u001b[38;5;241m1.0\u001b[39m\n\u001b[1;32m---> 13\u001b[0m      [xstar,ier] \u001b[38;5;241m=\u001b[39m fixedpt(f1,x0,tol,Nmax)\n\u001b[0;32m     14\u001b[0m      \u001b[38;5;28mprint\u001b[39m(\u001b[38;5;124m'\u001b[39m\u001b[38;5;124mthe approximate fixed point is:\u001b[39m\u001b[38;5;124m'\u001b[39m,xstar)\n\u001b[0;32m     15\u001b[0m      \u001b[38;5;28mprint\u001b[39m(\u001b[38;5;124m'\u001b[39m\u001b[38;5;124mf1(xstar):\u001b[39m\u001b[38;5;124m'\u001b[39m,f1(xstar))\n",
      "Cell \u001b[1;32mIn[45], line 37\u001b[0m, in \u001b[0;36mfixedpt\u001b[1;34m(f, x0, tol, Nmax)\u001b[0m\n\u001b[0;32m     35\u001b[0m \u001b[38;5;28;01mwhile\u001b[39;00m (count \u001b[38;5;241m<\u001b[39mNmax):\n\u001b[0;32m     36\u001b[0m    count \u001b[38;5;241m=\u001b[39m count \u001b[38;5;241m+\u001b[39m\u001b[38;5;241m1\u001b[39m\n\u001b[1;32m---> 37\u001b[0m    x1 \u001b[38;5;241m=\u001b[39m f(x0)\n\u001b[0;32m     38\u001b[0m    \u001b[38;5;28;01mif\u001b[39;00m (\u001b[38;5;28mabs\u001b[39m(x1\u001b[38;5;241m-\u001b[39mx0) \u001b[38;5;241m<\u001b[39mtol):\n\u001b[0;32m     39\u001b[0m       xstar \u001b[38;5;241m=\u001b[39m x1\n",
      "Cell \u001b[1;32mIn[47], line 1\u001b[0m, in \u001b[0;36m<lambda>\u001b[1;34m(x)\u001b[0m\n\u001b[1;32m----> 1\u001b[0m driver(\u001b[38;5;28;01mlambda\u001b[39;00m x: x \u001b[38;5;241m-\u001b[39m (x\u001b[38;5;241m*\u001b[39m\u001b[38;5;241m*\u001b[39m\u001b[38;5;241m5\u001b[39m\u001b[38;5;241m-\u001b[39m\u001b[38;5;241m7\u001b[39m)\u001b[38;5;241m/\u001b[39mx\u001b[38;5;241m*\u001b[39m\u001b[38;5;241m*\u001b[39m\u001b[38;5;241m2\u001b[39m)\n",
      "\u001b[1;31mOverflowError\u001b[0m: (34, 'Result too large')"
     ]
    }
   ],
   "source": [
    "driver(lambda x: x - (x**5-7)/x**2)"
   ]
  },
  {
   "cell_type": "code",
   "execution_count": 48,
   "id": "425c5216-3d3a-4499-b00b-6ad497f2cbf6",
   "metadata": {
    "tags": []
   },
   "outputs": [
    {
     "name": "stdout",
     "output_type": "stream",
     "text": [
      "the approximate fixed point is: 1.475773161594552\n",
      "f1(xstar): 1.4757731615945522\n",
      "Error message reads: 0\n",
      "the approximate fixed point is: 1.0\n",
      "f2(xstar): 1.0\n",
      "Error message reads: 0\n"
     ]
    }
   ],
   "source": [
    "driver(lambda x: x - (x**5-7)/(5*x**4))"
   ]
  },
  {
   "cell_type": "code",
   "execution_count": 49,
   "id": "73981899-cc8a-40ad-9cbe-684c3e537a9e",
   "metadata": {
    "tags": []
   },
   "outputs": [
    {
     "name": "stdout",
     "output_type": "stream",
     "text": [
      "the approximate fixed point is: 1.4735780454667078\n",
      "f1(xstar): 1.4779035096682076\n",
      "Error message reads: 1\n",
      "the approximate fixed point is: 1.0\n",
      "f2(xstar): 1.0\n",
      "Error message reads: 0\n"
     ]
    }
   ],
   "source": [
    "driver(lambda x: x - (x**5-7)/12)"
   ]
  },
  {
   "cell_type": "code",
   "execution_count": null,
   "id": "bf670e98-2b5c-4a9e-a04e-6e8be85fae1e",
   "metadata": {},
   "outputs": [],
   "source": []
  },
  {
   "cell_type": "code",
   "execution_count": null,
   "id": "5c0a0dec-7d2c-4ba9-ad7a-f81f5384ae92",
   "metadata": {},
   "outputs": [],
   "source": []
  },
  {
   "cell_type": "code",
   "execution_count": null,
   "id": "d89e7847-658d-4f65-91a5-1889e6879792",
   "metadata": {},
   "outputs": [],
   "source": []
  },
  {
   "cell_type": "code",
   "execution_count": null,
   "id": "9f2881d3-f4ba-4656-a49c-e70dc2d31585",
   "metadata": {},
   "outputs": [],
   "source": []
  }
 ],
 "metadata": {
  "kernelspec": {
   "display_name": "Python 3 (ipykernel)",
   "language": "python",
   "name": "python3"
  },
  "language_info": {
   "codemirror_mode": {
    "name": "ipython",
    "version": 3
   },
   "file_extension": ".py",
   "mimetype": "text/x-python",
   "name": "python",
   "nbconvert_exporter": "python",
   "pygments_lexer": "ipython3",
   "version": "3.11.4"
  }
 },
 "nbformat": 4,
 "nbformat_minor": 5
}
