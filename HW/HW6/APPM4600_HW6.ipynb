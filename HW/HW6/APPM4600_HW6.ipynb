{
 "cells": [
  {
   "cell_type": "markdown",
   "id": "049ec7d0-d9a5-4b54-82fb-bc326330e96d",
   "metadata": {
    "jp-MarkdownHeadingCollapsed": true,
    "tags": []
   },
   "source": [
    "# Homework 6\n",
    "Molly McFaul\n",
    "\n",
    "## Question 1"
   ]
  },
  {
   "cell_type": "markdown",
   "id": "e08fdee2-7bb1-4caf-b0cb-1452f9f84044",
   "metadata": {
    "tags": []
   },
   "source": [
    "### Functions Defined"
   ]
  },
  {
   "cell_type": "code",
   "execution_count": 98,
   "id": "c2348020-b3c8-4b25-9108-ea97de35c6be",
   "metadata": {
    "tags": []
   },
   "outputs": [],
   "source": [
    "import numpy as np\n",
    "import math\n",
    "import time\n",
    "from numpy.linalg import norm \n",
    "from numpy.linalg import inv\n",
    "from numpy.linalg import det\n",
    "import matplotlib.pyplot as plt\n",
    "from numpy.linalg import norm\n",
    "\n",
    "def evalF(x): \n",
    "\n",
    "    F = np.zeros(2)\n",
    "    \n",
    "    F[0] = x[0]**2 + x[1]**2 - 4\n",
    "    F[1] = np.exp(x[0]) + x[1] - 1\n",
    "    return F\n",
    "\n",
    "def evalJ(x): \n",
    "\n",
    "    J = np.array([[2*x[0],2*x[1]], \n",
    "        [np.exp(x[0]), 1]])\n",
    "    return J\n",
    "\n",
    "def Newton(x0,tol,Nmax):\n",
    "    ''' inputs: x0 = initial guess, tol = tolerance, Nmax = max its'''\n",
    "    ''' Outputs: xstar= approx root, ier = error message, its = num its'''\n",
    "    if det(evalJ(x0)) == 0:\n",
    "        xstar = x0\n",
    "        ier = 1\n",
    "        its = 'singular matrix'\n",
    "        return [xstar, ier, its]\n",
    "    \n",
    "    \n",
    "    for its in range(Nmax):\n",
    "       J = evalJ(x0)\n",
    "       Jinv = inv(J)\n",
    "       F = evalF(x0)\n",
    "       \n",
    "       x1 = x0 - Jinv.dot(F)\n",
    "       \n",
    "       if (norm(x1-x0) < tol):\n",
    "           xstar = x1\n",
    "           ier =0\n",
    "           return[xstar, ier, its]\n",
    "           \n",
    "       x0 = x1\n",
    "    \n",
    "    xstar = x1\n",
    "    ier = 1\n",
    "    return[xstar,ier,its]\n",
    "\n",
    "def LazyNewton(x0,tol,Nmax):\n",
    "\n",
    "    ''' Lazy Newton = use only the inverse of the Jacobian for initial guess'''\n",
    "    ''' inputs: x0 = initial guess, tol = tolerance, Nmax = max its'''\n",
    "    ''' Outputs: xstar= approx root, ier = error message, its = num its'''\n",
    "    if det(evalJ(x0)) == 0:\n",
    "        xstar = x0\n",
    "        ier = 1\n",
    "        its = 'singular matrix'\n",
    "        return [xstar, ier, its]\n",
    "    J = evalJ(x0)\n",
    "    Jinv = inv(J)\n",
    "    for its in range(Nmax):\n",
    "\n",
    "       F = evalF(x0)\n",
    "       x1 = x0 - Jinv.dot(F)\n",
    "       \n",
    "       if (norm(x1-x0) < tol):\n",
    "           xstar = x1\n",
    "           ier =0\n",
    "           return[xstar, ier,its]\n",
    "           \n",
    "       x0 = x1\n",
    "    \n",
    "    xstar = x1\n",
    "    ier = 1\n",
    "    return[xstar,ier,its] \n",
    "\n",
    "\n",
    "def SlackerNewton(x0, tol, Nmax):\n",
    "    if det(evalJ(x0)) == 0:\n",
    "        xstar = x0\n",
    "        ier = 1\n",
    "        its = 'singular matrix'\n",
    "        return [xstar, ier, its]\n",
    "    \n",
    "    J = evalJ(x0)\n",
    "    Jinv = inv(J)\n",
    "    if det(evalJ(x0)) == 0:\n",
    "        xstar = x0\n",
    "        ier = 1\n",
    "        its = 'singular matrix'\n",
    "        return [xstar, ier, its]\n",
    "    for its in range(Nmax):\n",
    "       F = evalF(x0)\n",
    "       \n",
    "       x1 = x0 - Jinv.dot(F)\n",
    "       \n",
    "       if (norm(x1-x0) < tol):\n",
    "           xstar = x1\n",
    "           ier =0\n",
    "           return[xstar, ier, its]\n",
    "       \n",
    "       if its % 3 == 0: #On every 3rd iteration, recompute Jacobian\n",
    "        J = evalJ(x1)\n",
    "        Jinv = inv(J)\n",
    "        \n",
    "       x0 = x1\n",
    "    \n",
    "    xstar = x1\n",
    "    ier = 1\n",
    "    return[xstar,ier,its]\n",
    "\n",
    "def Broyden(x0,tol,Nmax):\n",
    "    '''tol = desired accuracy\n",
    "    Nmax = max number of iterations'''\n",
    "\n",
    "    '''Sherman-Morrison \n",
    "   (A+xy^T)^{-1} = A^{-1}-1/p*(A^{-1}xy^TA^{-1})\n",
    "    where p = 1+y^TA^{-1}Ax'''\n",
    "\n",
    "    '''In Newton\n",
    "    x_k+1 = xk -(G(x_k))^{-1}*F(x_k)'''\n",
    "\n",
    "\n",
    "    '''In Broyden \n",
    "    x = [F(xk)-F(xk-1)-\\hat{G}_k-1(xk-xk-1)\n",
    "    y = x_k-x_k-1/||x_k-x_k-1||^2'''\n",
    "\n",
    "    ''' implemented as in equation (10.16) on page 650 of text'''\n",
    "    \n",
    "    '''initialize with 1 newton step'''\n",
    "    \n",
    "    A0 = evalJ(x0)\n",
    "    \n",
    "    if det(evalJ(x0)) == 0:\n",
    "        xstar = x0\n",
    "        ier = 1\n",
    "        its = 'singular matrix'\n",
    "        return [xstar, ier, its]\n",
    "    \n",
    "    v = evalF(x0)\n",
    "    A = np.linalg.inv(A0)\n",
    "\n",
    "    s = -A.dot(v)\n",
    "    xk = x0+s\n",
    "    for  its in range(Nmax):\n",
    "       '''(save v from previous step)'''\n",
    "       w = v\n",
    "       ''' create new v'''\n",
    "       v = evalF(xk)\n",
    "       '''y_k = F(xk)-F(xk-1)'''\n",
    "       y = v-w;                   \n",
    "       '''-A_{k-1}^{-1}y_k'''\n",
    "       z = -A.dot(y)\n",
    "       ''' p = s_k^tA_{k-1}^{-1}y_k'''\n",
    "       p = -np.dot(s,z)                 \n",
    "       u = np.dot(s,A) \n",
    "       ''' A = A_k^{-1} via Morrison formula'''\n",
    "       tmp = s+z\n",
    "       tmp2 = np.outer(tmp,u)\n",
    "       A = A+1./p*tmp2\n",
    "       ''' -A_k^{-1}F(x_k)'''\n",
    "       s = -A.dot(v)\n",
    "       xk = xk+s\n",
    "       if (norm(s)<tol):\n",
    "          alpha = xk\n",
    "          ier = 0\n",
    "          return[alpha,ier,its]\n",
    "    alpha = xk\n",
    "    ier = 1\n",
    "    return[alpha,ier,its]"
   ]
  },
  {
   "cell_type": "markdown",
   "id": "1e1967dc-0afd-4817-af66-b213940a4ed5",
   "metadata": {
    "jp-MarkdownHeadingCollapsed": true,
    "tags": []
   },
   "source": [
    "### Driver functions for Newton with different initial guesses"
   ]
  },
  {
   "cell_type": "code",
   "execution_count": 99,
   "id": "635de997-90a4-4f94-bc3a-41b9decb30f6",
   "metadata": {
    "tags": []
   },
   "outputs": [],
   "source": [
    "def driver1N():\n",
    "    x0 = np.array([1.,1.])\n",
    "    Nmax = 100\n",
    "    tol = 1e-10\n",
    "    \n",
    "    t = time.time()\n",
    "    for j in range(50):\n",
    "      [xstar,ier,its] =  Newton(x0,tol,Nmax)\n",
    "    elapsed = time.time()-t\n",
    "    print(xstar)\n",
    "    print('Newton(1,1): the error message reads:',ier) \n",
    "    print('Newton(1,1): took this many seconds:',elapsed/50)\n",
    "    print('Netwon(1,1): number of iterations is:',its)\n",
    "def driver2N():\n",
    "    x0 = np.array([1.,-1.])\n",
    "    Nmax = 100\n",
    "    tol = 1e-10\n",
    "    \n",
    "    t = time.time()\n",
    "    for j in range(50):\n",
    "      [xstar,ier,its] =  Newton(x0,tol,Nmax)\n",
    "    elapsed = time.time()-t\n",
    "    print(xstar)\n",
    "    print('Newton(1,-1): the error message reads:',ier) \n",
    "    print('Newton(1,-1): took this many seconds:',elapsed/50)\n",
    "    print('Netwon(1,-1): number of iterations is:',its)\n",
    "def driver3N():\n",
    "    x0 = np.array([0.,0.])\n",
    "    Nmax = 100\n",
    "    tol = 1e-10\n",
    "    \n",
    "    t = time.time()\n",
    "    for j in range(50):\n",
    "      [xstar,ier,its] =  Newton(x0,tol,Nmax)\n",
    "    elapsed = time.time()-t\n",
    "    print(xstar)\n",
    "    print('Newton(0,0): the error message reads:',ier) \n",
    "    print('Newton(0,0): took this many seconds:',elapsed/50)\n",
    "    print('Netwon(0,0): number of iterations is:',its)"
   ]
  },
  {
   "cell_type": "code",
   "execution_count": 100,
   "id": "03bbf83a-860e-49a3-82c4-1a670a3249cb",
   "metadata": {
    "tags": []
   },
   "outputs": [
    {
     "name": "stdout",
     "output_type": "stream",
     "text": [
      "[-1.81626407  0.8373678 ]\n",
      "Newton(1,1): the error message reads: 0\n",
      "Newton(1,1): took this many seconds: 0.000712895393371582\n",
      "Netwon(1,1): number of iterations is: 7\n",
      "[ 1.00416874 -1.72963729]\n",
      "Newton(1,-1): the error message reads: 0\n",
      "Newton(1,-1): took this many seconds: 0.00016145706176757814\n",
      "Netwon(1,-1): number of iterations is: 5\n",
      "[0. 0.]\n",
      "Newton(0,0): the error message reads: 1\n",
      "Newton(0,0): took this many seconds: 0.0\n",
      "Netwon(0,0): number of iterations is: singular matrix\n"
     ]
    }
   ],
   "source": [
    "driver1N()\n",
    "driver2N()\n",
    "driver3N()"
   ]
  },
  {
   "cell_type": "markdown",
   "id": "fec16407-8bbb-44fe-8a86-bf0407ed58aa",
   "metadata": {
    "tags": []
   },
   "source": [
    "### Driver functions for Lazy Newton with different initial guesses"
   ]
  },
  {
   "cell_type": "code",
   "execution_count": 101,
   "id": "2effae42-0a89-42c2-9838-7e333d405cc3",
   "metadata": {
    "tags": []
   },
   "outputs": [],
   "source": [
    "def driver1LN():\n",
    "    x0 = np.array([1.,1.])\n",
    "    Nmax = 100\n",
    "    tol = 1e-10\n",
    "    \n",
    "    t = time.time()\n",
    "    for j in range(20):\n",
    "      [xstar,ier,its] =  LazyNewton(x0,tol,Nmax)\n",
    "    elapsed = time.time()-t\n",
    "    print(xstar)\n",
    "    print('Lazy Newton(1,1): the error message reads:',ier)\n",
    "    print('Lazy Newton(1,1): took this many seconds:',elapsed/20)\n",
    "    print('Lazy Newton(1,1): number of iterations is:',its)\n",
    "def driver2LN():\n",
    "    x0 = np.array([1.,-1.])\n",
    "    Nmax = 100\n",
    "    tol = 1e-10\n",
    "    \n",
    "    t = time.time()\n",
    "    for j in range(20):\n",
    "      [xstar,ier,its] =  LazyNewton(x0,tol,Nmax)\n",
    "    elapsed = time.time()-t\n",
    "    print(xstar)\n",
    "    print('Lazy Newton(1,-1): the error message reads:',ier)\n",
    "    print('Lazy Newton(1,-1): took this many seconds:',elapsed/20)\n",
    "    print('Lazy Newton(1,-1): number of iterations is:',its)\n",
    "def driver3LN():\n",
    "    x0 = np.array([0.,0.])\n",
    "    Nmax = 100\n",
    "    tol = 1e-10\n",
    "    \n",
    "    t = time.time()\n",
    "    for j in range(20):\n",
    "      [xstar,ier,its] =  LazyNewton(x0,tol,Nmax)\n",
    "    elapsed = time.time()-t\n",
    "    print(xstar)\n",
    "    print('Lazy Newton(0,0): the error message reads:',ier)\n",
    "    print('Lazy Newton(0,0): took this many seconds:',elapsed/20)\n",
    "    print('Lazy Newton(0,0): number of iterations is:',its)\n",
    "\n",
    "    "
   ]
  },
  {
   "cell_type": "markdown",
   "id": "c3c97bd5-c76b-4928-9315-504b40816939",
   "metadata": {},
   "source": [
    "### Driver functions for Broyden with different initial guesses"
   ]
  },
  {
   "cell_type": "code",
   "execution_count": 102,
   "id": "a3982a0d-6d60-450b-9dbf-711f3aa269c4",
   "metadata": {
    "tags": []
   },
   "outputs": [],
   "source": [
    "def driver1B():\n",
    "    \n",
    "    x0 = np.array([1.,1.])\n",
    "    Nmax = 100\n",
    "    tol = 1e-10\n",
    "    \n",
    "    t = time.time()\n",
    "    for j in range(20):\n",
    "      [xstar,ier,its] = Broyden(x0, tol,Nmax)     \n",
    "    elapsed = time.time()-t\n",
    "    print(xstar)\n",
    "    print('Broyden(1,1): the error message reads:',ier)\n",
    "    print('Broyden(1,1): took this many seconds:',elapsed/20)\n",
    "    print('Broyden(1,1): number of iterations is:',its)\n",
    "    \n",
    "def driver2B():\n",
    "    \n",
    "    x0 = np.array([1.,-1.])\n",
    "    Nmax = 100\n",
    "    tol = 1e-10\n",
    "    \n",
    "    t = time.time()\n",
    "    for j in range(20):\n",
    "      [xstar,ier,its] = Broyden(x0, tol,Nmax)     \n",
    "    elapsed = time.time()-t\n",
    "    print(xstar)\n",
    "    print('Broyden(1,-1): the error message reads:',ier)\n",
    "    print('Broyden(1,-1): took this many seconds:',elapsed/20)\n",
    "    print('Broyden(1,-1): number of iterations is:',its)\n",
    "    \n",
    "def driver3B():\n",
    "    \n",
    "    x0 = np.array([0.,0.])\n",
    "    Nmax = 100\n",
    "    tol = 1e-10\n",
    "    \n",
    "    t = time.time()\n",
    "    for j in range(20):\n",
    "      [xstar,ier,its] = Broyden(x0, tol,Nmax)     \n",
    "    elapsed = time.time()-t\n",
    "    print(xstar)\n",
    "    print('Broyden(0,0): the error message reads:',ier)\n",
    "    print('Broyden(0,0): took this many seconds:',elapsed/20)\n",
    "    print('Broyden(0,0): number of iterations is:',its)\n",
    "    "
   ]
  },
  {
   "cell_type": "markdown",
   "id": "d87fc961-73c0-49cb-b90f-28d2feebef7c",
   "metadata": {
    "tags": []
   },
   "source": [
    "### Driver functions for Slacker Newton with different initial guesses"
   ]
  },
  {
   "cell_type": "code",
   "execution_count": 103,
   "id": "d5c6239c-0d24-49fe-91ab-0ae21ec73bfc",
   "metadata": {
    "tags": []
   },
   "outputs": [],
   "source": [
    "def driver1SN():\n",
    "    x0 = np.array([1.,1.])\n",
    "    Nmax = 100\n",
    "    tol = 1e-10\n",
    "    \n",
    "    t = time.time()\n",
    "    for j in range(50):\n",
    "      [xstar,ier,its] =  SlackerNewton(x0,tol,Nmax)\n",
    "    elapsed = time.time()-t\n",
    "    print(xstar)\n",
    "    print('Slacker Newton(1,1): the error message reads:',ier) \n",
    "    print('Slacker Newton(1,1): took this many seconds:',elapsed/50)\n",
    "    print('Slacker Netwon(1,1): number of iterations is:',its)   \n",
    "def driver2SN():\n",
    "    x0 = np.array([1.,-1.])\n",
    "    Nmax = 100\n",
    "    tol = 1e-10\n",
    "    \n",
    "    t = time.time()\n",
    "    for j in range(50):\n",
    "      [xstar,ier,its] =  SlackerNewton(x0,tol,Nmax)\n",
    "    elapsed = time.time()-t\n",
    "    print(xstar)\n",
    "    print('Slacker Newton(1,-1): the error message reads:',ier) \n",
    "    print('Slacker Newton(1,-1): took this many seconds:',elapsed/50)\n",
    "    print('Slacker Netwon(1,-1): number of iterations is:',its)  \n",
    "def driver3SN():\n",
    "    x0 = np.array([0.,0.])\n",
    "    Nmax = 100\n",
    "    tol = 1e-10\n",
    "    \n",
    "    t = time.time()\n",
    "    for j in range(50):\n",
    "      [xstar,ier,its] =  SlackerNewton(x0,tol,Nmax)\n",
    "    elapsed = time.time()-t\n",
    "    print(xstar)\n",
    "    print('Slacker Newton(0,0): the error message reads:',ier) \n",
    "    print('Slacker Newton(0,0): took this many seconds:',elapsed/50)\n",
    "    print('Slacker Netwon(0,0): number of iterations is:',its)  "
   ]
  },
  {
   "cell_type": "markdown",
   "id": "5d4db75a-ab65-4945-87cb-276118c1e9bc",
   "metadata": {
    "tags": []
   },
   "source": [
    "### Calling Newton"
   ]
  },
  {
   "cell_type": "code",
   "execution_count": 104,
   "id": "d2b7a910-41b8-4573-b815-15af625b902e",
   "metadata": {
    "tags": []
   },
   "outputs": [
    {
     "name": "stdout",
     "output_type": "stream",
     "text": [
      "[-1.81626407  0.8373678 ]\n",
      "Newton(1,1): the error message reads: 0\n",
      "Newton(1,1): took this many seconds: 0.00016044139862060548\n",
      "Netwon(1,1): number of iterations is: 7\n",
      "[ 1.00416874 -1.72963729]\n",
      "Newton(1,-1): the error message reads: 0\n",
      "Newton(1,-1): took this many seconds: 0.00016115188598632812\n",
      "Netwon(1,-1): number of iterations is: 5\n",
      "[0. 0.]\n",
      "Newton(0,0): the error message reads: 1\n",
      "Newton(0,0): took this many seconds: 0.0\n",
      "Netwon(0,0): number of iterations is: singular matrix\n"
     ]
    }
   ],
   "source": [
    "driver1N()\n",
    "driver2N()\n",
    "driver3N()"
   ]
  },
  {
   "cell_type": "markdown",
   "id": "93c698d6-1b50-4e54-acd2-486fd61c88d4",
   "metadata": {
    "tags": []
   },
   "source": [
    "### Calling Lazy Newton"
   ]
  },
  {
   "cell_type": "code",
   "execution_count": 105,
   "id": "5e5e6546-f6ad-4e88-bfb6-b6531c3e8b82",
   "metadata": {
    "tags": []
   },
   "outputs": [
    {
     "name": "stdout",
     "output_type": "stream",
     "text": [
      "[nan nan]\n",
      "Lazy Newton(1,1): the error message reads: 1\n",
      "Lazy Newton(1,1): took this many seconds: 0.0014200806617736816\n",
      "Lazy Newton(1,1): number of iterations is: 99\n",
      "[ 1.00416874 -1.72963729]\n",
      "Lazy Newton(1,-1): the error message reads: 0\n",
      "Lazy Newton(1,-1): took this many seconds: 0.0005782246589660645\n",
      "Lazy Newton(1,-1): number of iterations is: 36\n",
      "[0. 0.]\n",
      "Lazy Newton(0,0): the error message reads: 1\n",
      "Lazy Newton(0,0): took this many seconds: 0.0\n",
      "Lazy Newton(0,0): number of iterations is: singular matrix\n"
     ]
    },
    {
     "name": "stderr",
     "output_type": "stream",
     "text": [
      "C:\\Users\\Molly\\AppData\\Local\\Temp\\ipykernel_19196\\129197612.py:15: RuntimeWarning: overflow encountered in exp\n",
      "  F[1] = np.exp(x[0]) + x[1] - 1\n"
     ]
    }
   ],
   "source": [
    "driver1LN()\n",
    "driver2LN()\n",
    "driver3LN()"
   ]
  },
  {
   "cell_type": "markdown",
   "id": "cbcfb127-d7d6-46b4-a624-03dd63406a60",
   "metadata": {},
   "source": [
    "### Calling Broyden "
   ]
  },
  {
   "cell_type": "code",
   "execution_count": 106,
   "id": "340702ce-9685-4905-9166-f80e9c8850ae",
   "metadata": {
    "tags": []
   },
   "outputs": [
    {
     "name": "stdout",
     "output_type": "stream",
     "text": [
      "[-1.81626407  0.8373678 ]\n",
      "Broyden(1,1): the error message reads: 0\n",
      "Broyden(1,1): took this many seconds: 0.0005509018898010254\n",
      "Broyden(1,1): number of iterations is: 12\n",
      "[ 1.00416874 -1.72963729]\n",
      "Broyden(1,-1): the error message reads: 0\n",
      "Broyden(1,-1): took this many seconds: 0.00011757612228393554\n",
      "Broyden(1,-1): number of iterations is: 6\n",
      "[0. 0.]\n",
      "Broyden(0,0): the error message reads: 1\n",
      "Broyden(0,0): took this many seconds: 0.0\n",
      "Broyden(0,0): number of iterations is: singular matrix\n"
     ]
    }
   ],
   "source": [
    "driver1B()\n",
    "driver2B()\n",
    "driver3B()"
   ]
  },
  {
   "cell_type": "markdown",
   "id": "d2d59e49-7349-4215-8473-64e3120fc07b",
   "metadata": {
    "tags": []
   },
   "source": [
    "### Calling Slacker Newton"
   ]
  },
  {
   "cell_type": "code",
   "execution_count": null,
   "id": "375eb7a8-c387-4689-a442-2f9387ed73c7",
   "metadata": {},
   "outputs": [],
   "source": []
  },
  {
   "cell_type": "code",
   "execution_count": 107,
   "id": "b31b7c99-9916-4a0b-bd9e-7ecf68aac048",
   "metadata": {
    "tags": []
   },
   "outputs": [
    {
     "name": "stdout",
     "output_type": "stream",
     "text": [
      "[-1.81626407  0.8373678 ]\n",
      "Slacker Newton(1,1): the error message reads: 0\n",
      "Slacker Newton(1,1): took this many seconds: 0.00014298439025878907\n",
      "Slacker Netwon(1,1): number of iterations is: 11\n",
      "[ 1.00416874 -1.72963729]\n",
      "Slacker Newton(1,-1): the error message reads: 0\n",
      "Slacker Newton(1,-1): took this many seconds: 0.00035570621490478517\n",
      "Slacker Netwon(1,-1): number of iterations is: 6\n",
      "[0. 0.]\n",
      "Slacker Newton(0,0): the error message reads: 1\n",
      "Slacker Newton(0,0): took this many seconds: 0.0\n",
      "Slacker Netwon(0,0): number of iterations is: singular matrix\n"
     ]
    }
   ],
   "source": [
    "driver1SN()\n",
    "driver2SN()\n",
    "driver3SN()"
   ]
  },
  {
   "cell_type": "markdown",
   "id": "f19daa31-6bcd-4cf9-8efa-22aa9544d3ea",
   "metadata": {},
   "source": [
    "For all of the methods, attempting to use the initial guess of $\\overline{x}_0 = [0,0]$ results in the intial Jacobian calculated being singular, and thus renders the methods unable to continue. It can be noted that the point $(0,0)$ is a root of $g(x,y)$. For the initial guess of $\\overline{x}_0=[1,1]$, the Lazy Newton method did not work. It outputs that it reached $N_{max}$ i.e., it performed 99 iterations. Python outputs an overflow error, the numerical value of the iteration being too large when evaluated the exponential in $g(x,y)$ -- the outputted roots are \"nan\" values. For Slacker Newton, where the Jacobian is recalculated every 3 iterations instead of every iteration, required slightly more iterations than the normal Newton's Method. Newton required 7 iterations for $\\overline{x}_0 = [1,1]$ while Slacker Newton required 11 iterations. Broyden required 12 iterations for this initial guess, more than both Newton and Slacker Newton.  For $\\overline{x}_0 = [1,-1]$, Newton required 5 iterations, Lazy Newton required 36 iterations, and Broyden required 6. Slacker Newton required 6, though only requiring a Jacobian calculation every three. "
   ]
  },
  {
   "cell_type": "markdown",
   "id": "162804fc-e2af-4baf-aeeb-aba2c7fb92da",
   "metadata": {
    "tags": []
   },
   "source": [
    "# Question 2"
   ]
  },
  {
   "cell_type": "markdown",
   "id": "762b1fae-3579-45bc-b9d8-952bee70bb4a",
   "metadata": {
    "tags": []
   },
   "source": [
    "### Defining Key Functions"
   ]
  },
  {
   "cell_type": "code",
   "execution_count": 108,
   "id": "ea21a557-5fa5-41fd-8ff3-d425c7705933",
   "metadata": {
    "tags": []
   },
   "outputs": [],
   "source": [
    "def evalF(x): \n",
    "\n",
    "    F = np.zeros(3)\n",
    "    \n",
    "    F[0] = x[0] + math.cos(x[0]*x[1]*x[2]) - 1\n",
    "    F[1] = (1 - x[0])**(1/4) + x[1] + 0.05*x[2]**2 - 0.15 * x[2] - 1\n",
    "    F[2] = -1*(x[0]**2) - 0.1*x[1]**2 + 0.01*x[1] + x[2] - 1\n",
    "    return F\n",
    "def evalJ(x): \n",
    "    fx = 1 - x[1]*x[2]*math.sin(x[0]*x[1]*x[2])\n",
    "    fy = - x[0]*x[2]*math.sin(x[0]*x[1]*x[2])\n",
    "    fz = - x[1]*x[0]*math.sin(x[0]*x[1]*x[2])\n",
    "    \n",
    "    gx = -(1/4) * (1-x[0])**(-3/4)\n",
    "    gy = 1\n",
    "    gz = 0.1*x[2] - 0.15\n",
    "    \n",
    "    hx = -2*x[0]\n",
    "    hy = -.2*x[1] + 0.01\n",
    "    hz = 1\n",
    "    \n",
    "    J = np.array([[fx,fy,fz],[gx,gy,gz],[hx,hy,hz]])\n",
    "    return J\n",
    "\n",
    "def Newton(x0,tol,Nmax):\n",
    "    ''' inputs: x0 = initial guess, tol = tolerance, Nmax = max its'''\n",
    "    ''' Outputs: xstar= approx root, ier = error message, its = num its'''\n",
    "    if det(evalJ(x0)) == 0:\n",
    "        xstar = x0\n",
    "        ier = 1\n",
    "        its = 'singular matrix'\n",
    "        return [xstar, ier, its]\n",
    "    \n",
    "    \n",
    "    for its in range(Nmax):\n",
    "       J = evalJ(x0)\n",
    "       Jinv = inv(J)\n",
    "       F = evalF(x0)\n",
    "       \n",
    "       x1 = x0 - Jinv.dot(F)\n",
    "       \n",
    "       if (norm(x1-x0) < tol):\n",
    "           xstar = x1\n",
    "           ier =0\n",
    "           return[xstar, ier, its]\n",
    "           \n",
    "       x0 = x1\n",
    "    \n",
    "    xstar = x1\n",
    "    ier = 1\n",
    "    return[xstar,ier,its]\n",
    "\n",
    "\n",
    "def evalg(x):\n",
    "\n",
    "    F = evalF(x)\n",
    "    g = F[0]**2 + F[1]**2 + F[2]**2\n",
    "    return g\n",
    "\n",
    "def eval_gradg(x):\n",
    "    F = evalF(x)\n",
    "    J = evalJ(x)\n",
    "    \n",
    "    gradg = np.transpose(J).dot(F)\n",
    "    return gradg\n",
    "\n",
    "\n",
    "###############################\n",
    "### steepest descent code\n",
    "\n",
    "def SteepestDescent(x,tol,Nmax):\n",
    "    \n",
    "    for its2 in range(Nmax):\n",
    "        g1 = evalg(x)\n",
    "        z = eval_gradg(x)\n",
    "        z0 = norm(z)\n",
    "\n",
    "        if z0 == 0:\n",
    "            print(\"zero gradient\")\n",
    "        z = z/z0\n",
    "        alpha1 = 0\n",
    "        alpha3 = 1\n",
    "        dif_vec = x - alpha3*z\n",
    "        g3 = evalg(dif_vec)\n",
    "\n",
    "        while g3>=g1:\n",
    "            alpha3 = alpha3/2\n",
    "            dif_vec = x - alpha3*z\n",
    "            g3 = evalg(dif_vec)\n",
    "            \n",
    "        if alpha3<tol:\n",
    "            print(\"no likely improvement\")\n",
    "            ier = 0\n",
    "            return [x,g1,ier,its2]\n",
    "        \n",
    "        alpha2 = alpha3/2\n",
    "        dif_vec = x - alpha2*z\n",
    "        g2 = evalg(dif_vec)\n",
    "\n",
    "        h1 = (g2 - g1)/alpha2\n",
    "        h2 = (g3-g2)/(alpha3-alpha2)\n",
    "        h3 = (h2-h1)/alpha3\n",
    "\n",
    "        alpha0 = 0.5*(alpha2 - h1/h3)\n",
    "        dif_vec = x - alpha0*z\n",
    "        g0 = evalg(dif_vec)\n",
    "\n",
    "        if g0<=g3:\n",
    "            alpha = alpha0\n",
    "            gval = g0\n",
    "\n",
    "        else:\n",
    "            alpha = alpha3\n",
    "            gval =g3\n",
    "\n",
    "        x = x - alpha*z\n",
    "\n",
    "        if abs(gval - g1)<tol:\n",
    "            ier = 0\n",
    "            return [x,gval,ier,its2]\n",
    "\n",
    "    print('max iterations exceeded')    \n",
    "    ier = 1        \n",
    "    return [x,g1,ier,its2]      "
   ]
  },
  {
   "cell_type": "markdown",
   "id": "80dd1f26-588d-418e-9958-8dfdc264f9b1",
   "metadata": {
    "tags": []
   },
   "source": [
    "### Driver Function for Newton with initial guess $[0,0,0]$"
   ]
  },
  {
   "cell_type": "code",
   "execution_count": 123,
   "id": "64b5dedc-158e-42b9-bc6c-6113d910d409",
   "metadata": {
    "tags": []
   },
   "outputs": [],
   "source": [
    "def driverN():\n",
    "    x0 = np.array([-1,1,1])\n",
    "    Nmax = 100\n",
    "    tol = 1e-12\n",
    "    \n",
    "    t = time.time()\n",
    "    for j in range(50):\n",
    "      [xstar,ier,its] =  Newton(x0,tol,Nmax)\n",
    "    elapsed = time.time()-t\n",
    "    print(xstar)\n",
    "    print('Newton: the error message reads:',ier) \n",
    "    print('Newton: took this many seconds:',elapsed/50)\n",
    "    print('Newton: number of iterations is:',its)"
   ]
  },
  {
   "cell_type": "markdown",
   "id": "789f5ac1-c196-42fd-9771-3f2f120c11d6",
   "metadata": {},
   "source": [
    "### Driver Function for Steepest Descent with initial guess $[0,0,0]$"
   ]
  },
  {
   "cell_type": "code",
   "execution_count": 124,
   "id": "0980800a-48ee-4741-899e-ce3e9a3ad335",
   "metadata": {},
   "outputs": [],
   "source": [
    "def driverSD():\n",
    "\n",
    "    Nmax = 100\n",
    "    x0= np.array([-1,1,1])\n",
    "    tol = 1e-10\n",
    "    \n",
    "    [xstar,gval,ier,its] = SteepestDescent(x0,tol,Nmax)\n",
    "    print(xstar)\n",
    "    print(\"Steepest Descent: the error message reads\", ier\t)\n",
    "    print('Steepest Descent: number of iterations is:', its)\n",
    "    "
   ]
  },
  {
   "cell_type": "code",
   "execution_count": 125,
   "id": "602aee87-a5ca-4150-8014-40e4b39768a0",
   "metadata": {
    "tags": []
   },
   "outputs": [],
   "source": [
    "def driverNSD():\n",
    "\n",
    "    Nmax = 100\n",
    "    x0= np.array([-1,1,1])\n",
    "    tol = 5e-2\n",
    "    \n",
    "    for j in range(50):\n",
    "      [xstar,ier,its] =  Newton(x0,tol,Nmax)\n",
    "        \n",
    "    tol = 1e-10\n",
    "    x0 = xstar\n",
    "    [xstar,gval,ier,its2] = SteepestDescent(x0,tol,Nmax)\n",
    "    print(xstar)\n",
    "    print(\"Newton + Steepest Descent: the error message reads\", ier\t)\n",
    "    print('Newton + Steepest Descent: number of iterations is:', its + its2)"
   ]
  },
  {
   "cell_type": "markdown",
   "id": "b4911e84-8087-4f41-ba0f-edb8150f013c",
   "metadata": {},
   "source": [
    "### Initial guess = $[-1,1,1]$, tol for final solution = $10^{-6}$, $N_{max} = 100$"
   ]
  },
  {
   "cell_type": "markdown",
   "id": "ee33ad5f-f0fc-449f-b0b6-90f70e3fe5e8",
   "metadata": {},
   "source": [
    "### Calling Newton "
   ]
  },
  {
   "cell_type": "code",
   "execution_count": 126,
   "id": "60251ac5-623a-4a96-b933-f0df8b268876",
   "metadata": {
    "tags": []
   },
   "outputs": [
    {
     "name": "stdout",
     "output_type": "stream",
     "text": [
      "[4.04637797e-17 1.00000000e-01 1.00000000e+00]\n",
      "Newton: the error message reads: 0\n",
      "Newton: took this many seconds: 0.0003883028030395508\n",
      "Newton: number of iterations is: 6\n"
     ]
    }
   ],
   "source": [
    "driverN()"
   ]
  },
  {
   "cell_type": "markdown",
   "id": "f958b206-cd0f-4c59-898b-438f74e53aa9",
   "metadata": {},
   "source": [
    "The solution seems to be $[x,y,z] = [0,0.1,1]$. This technique converged in only 6 iterations. "
   ]
  },
  {
   "cell_type": "markdown",
   "id": "1f528c66-262f-48fc-9c2c-451508912d94",
   "metadata": {},
   "source": [
    "### Calling Steepest Descent "
   ]
  },
  {
   "cell_type": "code",
   "execution_count": 127,
   "id": "cb1a9fa3-e4f2-415e-be3a-bc181e9bff7a",
   "metadata": {
    "tags": []
   },
   "outputs": [
    {
     "name": "stdout",
     "output_type": "stream",
     "text": [
      "[-6.56738397e-08  1.00000365e-01  1.00000003e+00]\n",
      "Steepest Descent: the error message reads 0\n",
      "Steepest Descent: number of iterations is: 8\n"
     ]
    }
   ],
   "source": [
    "driverSD()"
   ]
  },
  {
   "cell_type": "markdown",
   "id": "7c6b78c3-2513-4202-9fd0-15a4053f9a78",
   "metadata": {},
   "source": [
    "The solution here seems to be less accurate than with Newton's method, though the tolerance was set to be the same. This technique converged in 8 iterations, two more than Newton's."
   ]
  },
  {
   "cell_type": "markdown",
   "id": "7ba7358f-a15d-4033-a9c2-f181f1e9a6c9",
   "metadata": {},
   "source": [
    "### Calling Newton + Steepest Descent"
   ]
  },
  {
   "cell_type": "code",
   "execution_count": 129,
   "id": "683a6eba-9aaa-4efb-ac31-9c043721e6c0",
   "metadata": {
    "tags": []
   },
   "outputs": [
    {
     "name": "stdout",
     "output_type": "stream",
     "text": [
      "[9.25244936e-11 9.99996879e-02 9.99999978e-01]\n",
      "Newton + Steepest Descent: the error message reads 0\n",
      "Newton + Steepest Descent: number of iterations is: 3\n"
     ]
    }
   ],
   "source": [
    "driverNSD()"
   ]
  },
  {
   "cell_type": "markdown",
   "id": "51e633ee-dd93-46e4-b097-d17bef7c9c26",
   "metadata": {
    "tags": []
   },
   "source": [
    "This solution seems to be slightly less accurate than Newton's method, though again the tolerance was set to be the same. However, the combination of Newton's and Steepest Descent led to convergence in the least amount of iterations, only 3, compared to SD alone with 8 iterations and Newton alone with 6 iterations. This makes sense, as Newton tends to converge the fastest, given that the initial guess is close to the exact root. If it isn't Newton does not perform very well as compared to other methods. With this combination, we get the quick convergence of Newton's method with a guaranteed close intial guess, as the Steepest Descent method can converge with a further initial guess than Newton's can. So, with an initial guess like $[-1,1,1]$, that is not wildly close to the solution, we would expect that this combination converges faster than both Newton's method and the steepest descent method alone. "
   ]
  },
  {
   "cell_type": "code",
   "execution_count": null,
   "id": "db991687-eb46-4772-b9fd-009ae5b7f2b7",
   "metadata": {},
   "outputs": [],
   "source": []
  }
 ],
 "metadata": {
  "kernelspec": {
   "display_name": "Python 3 (ipykernel)",
   "language": "python",
   "name": "python3"
  },
  "language_info": {
   "codemirror_mode": {
    "name": "ipython",
    "version": 3
   },
   "file_extension": ".py",
   "mimetype": "text/x-python",
   "name": "python",
   "nbconvert_exporter": "python",
   "pygments_lexer": "ipython3",
   "version": "3.11.4"
  }
 },
 "nbformat": 4,
 "nbformat_minor": 5
}
