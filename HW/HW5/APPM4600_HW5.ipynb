{
 "cells": [
  {
   "cell_type": "markdown",
   "id": "b7a4ae58-472f-4d05-bbe7-e61a388d78fd",
   "metadata": {},
   "source": [
    "# Homework 5\n",
    "\n",
    "### Question 1"
   ]
  },
  {
   "cell_type": "code",
   "execution_count": 14,
   "id": "a6bd59fc-8fca-409a-a5e7-96f8b2bbb418",
   "metadata": {
    "tags": []
   },
   "outputs": [],
   "source": [
    "import numpy as np\n",
    "import math\n",
    "import time\n",
    "from numpy.linalg import norm \n",
    "from numpy.linalg import inv \n",
    "\n",
    "\n",
    "def evalF(x): \n",
    "\n",
    "    F = np.zeros(2)\n",
    "    \n",
    "    F[0] = 3*x[0]**2 - x[1]**2\n",
    "    F[1] = 3*x[0]*x[1]**2 - x[0]**3 - 1\n",
    "    return F\n",
    "\n",
    "def evalJ(x): \n",
    "\n",
    "    J = np.array([[6*x[0],-2*x[1]], \n",
    "        [3*x[1]**2 - 3*x[0]**2, 6*x[0]*x[1]]])\n",
    "    return J\n",
    "\n",
    "def qoneA(x0,tol,Nmax):\n",
    "\n",
    "    mat = np.array([[1./6.,1./18.],[0.,1./6.]])\n",
    "    for its in range(Nmax):\n",
    "\n",
    "       F = evalF(x0)\n",
    "       x1 = x0 - mat.dot(F)\n",
    "       \n",
    "       if (norm(x1-x0) < tol):\n",
    "           xstar = x1\n",
    "           ier =0\n",
    "           return[xstar, ier,its]\n",
    "           \n",
    "       x0 = x1\n",
    "    \n",
    "    xstar = x1\n",
    "    ier = 1\n",
    "    return[xstar,ier,its] \n",
    "\n",
    "def Newton(x0,tol,Nmax):\n",
    "\n",
    "    ''' inputs: x0 = initial guess, tol = tolerance, Nmax = max its'''\n",
    "    ''' Outputs: xstar= approx root, ier = error message, its = num its'''\n",
    "\n",
    "    for its in range(Nmax):\n",
    "       J = evalJ(x0)\n",
    "       Jinv = inv(J)\n",
    "       F = evalF(x0)\n",
    "       \n",
    "       x1 = x0 - Jinv.dot(F)\n",
    "       \n",
    "       if (norm(x1-x0) < tol):\n",
    "           xstar = x1\n",
    "           ier =0\n",
    "           return[xstar, ier, its]\n",
    "           \n",
    "       x0 = x1\n",
    "    \n",
    "    xstar = x1\n",
    "    ier = 1\n",
    "    return[xstar,ier,its]\n"
   ]
  },
  {
   "cell_type": "code",
   "execution_count": 15,
   "id": "552cc5bc-6e8b-4c6d-b877-bb1f57f32d16",
   "metadata": {
    "tags": []
   },
   "outputs": [],
   "source": [
    "def driver():\n",
    "    x0 = np.array([1.,1.])\n",
    "    Nmax = 100\n",
    "    tol = 1e-10\n",
    "    \n",
    "    t = time.time()\n",
    "    for j in range(50):\n",
    "      [xstar,ier,its] =  qoneA(x0,tol,Nmax)\n",
    "    elapsed = time.time()-t\n",
    "    print(xstar)\n",
    "    print('a): the error message reads:',ier) \n",
    "    print('a): took this many seconds:',elapsed/50)\n",
    "    print('a): number of iterations is:',its)"
   ]
  },
  {
   "cell_type": "code",
   "execution_count": 16,
   "id": "e8c8ba36-f53b-4973-be28-fb38463ed209",
   "metadata": {
    "tags": []
   },
   "outputs": [
    {
     "name": "stdout",
     "output_type": "stream",
     "text": [
      "[0.5       0.8660254]\n",
      "a): the error message reads: 0\n",
      "a): took this many seconds: 0.0004736995697021484\n",
      "a): number of iterations is: 33\n"
     ]
    }
   ],
   "source": [
    "driver()"
   ]
  },
  {
   "cell_type": "markdown",
   "id": "6ba94451-aba2-424d-b710-13d3bdba9d0b",
   "metadata": {},
   "source": [
    "The matrix we use in this method is simply the inverse of the Jacobian evaulated at the initial guess i.e., this is the Lazy Newton method"
   ]
  },
  {
   "cell_type": "code",
   "execution_count": 17,
   "id": "dbcbf1e6-908e-4ae3-9573-c6f2d064f84f",
   "metadata": {
    "tags": []
   },
   "outputs": [],
   "source": [
    "def driver():\n",
    "    x0 = np.array([1.,1.])\n",
    "    Nmax = 100\n",
    "    tol = 1e-10\n",
    "    \n",
    "    t = time.time()\n",
    "    for j in range(50):\n",
    "      [xstar,ier,its] =  Newton(x0,tol,Nmax)\n",
    "    elapsed = time.time()-t\n",
    "    print(xstar)\n",
    "    print('Newton: the error message reads:',ier) \n",
    "    print('Newton: took this many seconds:',elapsed/50)\n",
    "    print('Netwon: number of iterations is:',its)"
   ]
  },
  {
   "cell_type": "code",
   "execution_count": 18,
   "id": "949403b4-6a4e-4141-9cc3-e9238b14e6a8",
   "metadata": {
    "tags": []
   },
   "outputs": [
    {
     "name": "stdout",
     "output_type": "stream",
     "text": [
      "[0.5       0.8660254]\n",
      "Newton: the error message reads: 0\n",
      "Newton: took this many seconds: 0.0016623401641845702\n",
      "Netwon: number of iterations is: 5\n"
     ]
    }
   ],
   "source": [
    "driver()"
   ]
  },
  {
   "cell_type": "markdown",
   "id": "10753534-306c-4df0-b304-e36d9b7c7c60",
   "metadata": {},
   "source": [
    "This converges in significantly less iterations than the method in 1 a)"
   ]
  },
  {
   "cell_type": "markdown",
   "id": "36c0d76a-0d47-4dae-a900-39465af1cc3d",
   "metadata": {},
   "source": [
    "## Question 3 b)"
   ]
  },
  {
   "cell_type": "code",
   "execution_count": 20,
   "id": "447e6763-d6c5-4522-b076-79306ad55745",
   "metadata": {
    "tags": []
   },
   "outputs": [
    {
     "name": "stdout",
     "output_type": "stream",
     "text": [
      "[1.09364232 1.36032838 1.36032838]\n",
      "3b): the error message reads: 0\n",
      "3b): took this many seconds: 0.00021051406860351563\n",
      "3b): number of iterations is: 4\n"
     ]
    },
    {
     "data": {
      "image/png": "[encoded data removed]",
      "text/plain": [
       "<Figure size 640x480 with 1 Axes>"
      ]
     },
     "metadata": {},
     "output_type": "display_data"
    }
   ],
   "source": [
    "import numpy as np\n",
    "import math\n",
    "import time\n",
    "from numpy.linalg import norm \n",
    "from numpy.linalg import inv\n",
    "from matplotlib import pyplot as plt\n",
    "\n",
    "def driver():\n",
    "    x0 = np.array([1.,1.,1.])\n",
    "    Nmax = 100\n",
    "    tol = 1e-10\n",
    "    \n",
    "    t = time.time()\n",
    "    for j in range(50):\n",
    "      [xstar,ier,its,error] =  qthreeB(x0,tol,Nmax)\n",
    "    elapsed = time.time()-t\n",
    "    print(xstar)\n",
    "    print('3b): the error message reads:',ier) \n",
    "    print('3b): took this many seconds:',elapsed/50)\n",
    "    print('3b): number of iterations is:',its)\n",
    "    plt.plot(list(range(len(error))), error)\n",
    "    plt.show()\n",
    "def evalf(x): \n",
    "\n",
    "    f = x[0]**2 + 4*x[1]**2 + 4*x[2]**2 - 16\n",
    "    fx = 2*x[0]\n",
    "    fy = 8*x[1]\n",
    "    fz = 8*x[2]\n",
    "    return f,fx,fy,fz\n",
    "\n",
    "def qthreeB(x0,tol,Nmax):\n",
    "     \n",
    "    for its in range(Nmax):\n",
    "       f, fx, fy, fz = evalf(x0)\n",
    "       d = f/(fx**2 + fy**2 + fz**2)\n",
    "       \n",
    "       x1 = x0 - np.multiply(d,[fx,fy,fz])\n",
    "       error = []\n",
    "       error.append(norm(x1-x0))\n",
    "       if (norm(x1-x0) < tol):\n",
    "           xstar = x1\n",
    "           ier =0\n",
    "           return[xstar, ier, its,error]\n",
    "           \n",
    "       x0 = x1\n",
    "    \n",
    "    xstar = x1\n",
    "    ier = 1\n",
    "    return[xstar,ier,its,error]\n",
    "    \n",
    "driver()\n",
    "    "
   ]
  },
  {
   "cell_type": "code",
   "execution_count": null,
   "id": "af6e9eef-74ae-4172-bb6d-25045d0ebed6",
   "metadata": {},
   "outputs": [],
   "source": []
  }
 ],
 "metadata": {
  "kernelspec": {
   "display_name": "Python 3 (ipykernel)",
   "language": "python",
   "name": "python3"
  },
  "language_info": {
   "codemirror_mode": {
    "name": "ipython",
    "version": 3
   },
   "file_extension": ".py",
   "mimetype": "text/x-python",
   "name": "python",
   "nbconvert_exporter": "python",
   "pygments_lexer": "ipython3",
   "version": "3.11.4"
  }
 },
 "nbformat": 4,
 "nbformat_minor": 5
}
